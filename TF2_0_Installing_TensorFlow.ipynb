{
  "nbformat": 4,
  "nbformat_minor": 0,
  "metadata": {
    "colab": {
      "name": "TF2.0 Installing TensorFlow.ipynb",
      "provenance": [],
      "collapsed_sections": [],
      "authorship_tag": "ABX9TyOB8bxIaxXvi7l3O5CAHTeZ",
      "include_colab_link": true
    },
    "kernelspec": {
      "name": "python3",
      "display_name": "Python 3"
    }
  },
  "cells": [
    {
      "cell_type": "markdown",
      "metadata": {
        "id": "view-in-github",
        "colab_type": "text"
      },
      "source": [
        "<a href=\"https://colab.research.google.com/github/myselfadeveloper/tensorflow2.0/blob/master/TF2_0_Installing_TensorFlow.ipynb\" target=\"_parent\"><img src=\"https://colab.research.google.com/assets/colab-badge.svg\" alt=\"Open In Colab\"/></a>"
      ]
    },
    {
      "cell_type": "markdown",
      "metadata": {
        "id": "VwU6DC1J4dmt",
        "colab_type": "text"
      },
      "source": [
        "# Title Here\n",
        "Text\n",
        "\n",
        "```\n",
        "# This is formatted as code\n",
        "```\n",
        "\n",
        "\n",
        "\n"
      ]
    },
    {
      "cell_type": "code",
      "metadata": {
        "id": "2AeIl-EA4-8c",
        "colab_type": "code",
        "colab": {
          "base_uri": "https://localhost:8080/",
          "height": 34
        },
        "outputId": "890fe412-1548-494d-faf0-e4c471a7e122"
      },
      "source": [
        "# Whats already installed\n",
        "\n",
        "import tensorflow as tf\n",
        "print(tf.__version__)"
      ],
      "execution_count": 4,
      "outputs": [
        {
          "output_type": "stream",
          "text": [
            "2.2.0\n"
          ],
          "name": "stdout"
        }
      ]
    },
    {
      "cell_type": "code",
      "metadata": {
        "id": "zTweaJ78_YKW",
        "colab_type": "code",
        "colab": {}
      },
      "source": [
        "# Install TensorFlow 2.0\n",
        "# You can run regular shell commands by prepending !\n",
        "# !pip install -q tensorflow==2.0.0-beta1\n",
        "\n",
        "# GPU version\n",
        "# !pip install -q tensorflow-gpu==2.0.0-beta1"
      ],
      "execution_count": 0,
      "outputs": []
    },
    {
      "cell_type": "code",
      "metadata": {
        "id": "BdM3hlknDq7R",
        "colab_type": "code",
        "colab": {}
      },
      "source": [
        "# How to install a library permanently?\n",
        "# https://stackoverflow.com/questions/55253498/how-do-i-install-a-library-permanently-in-colab"
      ],
      "execution_count": 0,
      "outputs": []
    },
    {
      "cell_type": "code",
      "metadata": {
        "id": "ezdsOFBGD2Ja",
        "colab_type": "code",
        "colab": {
          "base_uri": "https://localhost:8080/",
          "height": 34
        },
        "outputId": "bdb7610a-0197-44d0-a88b-433a031a3986"
      },
      "source": [
        "!ls"
      ],
      "execution_count": 6,
      "outputs": [
        {
          "output_type": "stream",
          "text": [
            "sample_data\n"
          ],
          "name": "stdout"
        }
      ]
    },
    {
      "cell_type": "code",
      "metadata": {
        "id": "X7w24gZrD8KJ",
        "colab_type": "code",
        "colab": {
          "base_uri": "https://localhost:8080/",
          "height": 67
        },
        "outputId": "effb12c6-afbe-43fa-a88d-9c4b80d17841"
      },
      "source": [
        "!ls sample_data"
      ],
      "execution_count": 7,
      "outputs": [
        {
          "output_type": "stream",
          "text": [
            "anscombe.json\t\t      mnist_test.csv\n",
            "california_housing_test.csv   mnist_train_small.csv\n",
            "california_housing_train.csv  README.md\n"
          ],
          "name": "stdout"
        }
      ]
    },
    {
      "cell_type": "code",
      "metadata": {
        "id": "sFNnHkDzEVoQ",
        "colab_type": "code",
        "colab": {
          "base_uri": "https://localhost:8080/",
          "height": 756
        },
        "outputId": "d9c5a28d-897c-460b-bced-373f9b63c37b"
      },
      "source": [
        "import json\n",
        "json.loads(open('sample_data/anscombe.json').read())"
      ],
      "execution_count": 8,
      "outputs": [
        {
          "output_type": "execute_result",
          "data": {
            "text/plain": [
              "[{'Series': 'I', 'X': 10.0, 'Y': 8.04},\n",
              " {'Series': 'I', 'X': 8.0, 'Y': 6.95},\n",
              " {'Series': 'I', 'X': 13.0, 'Y': 7.58},\n",
              " {'Series': 'I', 'X': 9.0, 'Y': 8.81},\n",
              " {'Series': 'I', 'X': 11.0, 'Y': 8.33},\n",
              " {'Series': 'I', 'X': 14.0, 'Y': 9.96},\n",
              " {'Series': 'I', 'X': 6.0, 'Y': 7.24},\n",
              " {'Series': 'I', 'X': 4.0, 'Y': 4.26},\n",
              " {'Series': 'I', 'X': 12.0, 'Y': 10.84},\n",
              " {'Series': 'I', 'X': 7.0, 'Y': 4.81},\n",
              " {'Series': 'I', 'X': 5.0, 'Y': 5.68},\n",
              " {'Series': 'II', 'X': 10.0, 'Y': 9.14},\n",
              " {'Series': 'II', 'X': 8.0, 'Y': 8.14},\n",
              " {'Series': 'II', 'X': 13.0, 'Y': 8.74},\n",
              " {'Series': 'II', 'X': 9.0, 'Y': 8.77},\n",
              " {'Series': 'II', 'X': 11.0, 'Y': 9.26},\n",
              " {'Series': 'II', 'X': 14.0, 'Y': 8.1},\n",
              " {'Series': 'II', 'X': 6.0, 'Y': 6.13},\n",
              " {'Series': 'II', 'X': 4.0, 'Y': 3.1},\n",
              " {'Series': 'II', 'X': 12.0, 'Y': 9.13},\n",
              " {'Series': 'II', 'X': 7.0, 'Y': 7.26},\n",
              " {'Series': 'II', 'X': 5.0, 'Y': 4.74},\n",
              " {'Series': 'III', 'X': 10.0, 'Y': 7.46},\n",
              " {'Series': 'III', 'X': 8.0, 'Y': 6.77},\n",
              " {'Series': 'III', 'X': 13.0, 'Y': 12.74},\n",
              " {'Series': 'III', 'X': 9.0, 'Y': 7.11},\n",
              " {'Series': 'III', 'X': 11.0, 'Y': 7.81},\n",
              " {'Series': 'III', 'X': 14.0, 'Y': 8.84},\n",
              " {'Series': 'III', 'X': 6.0, 'Y': 6.08},\n",
              " {'Series': 'III', 'X': 4.0, 'Y': 5.39},\n",
              " {'Series': 'III', 'X': 12.0, 'Y': 8.15},\n",
              " {'Series': 'III', 'X': 7.0, 'Y': 6.42},\n",
              " {'Series': 'III', 'X': 5.0, 'Y': 5.73},\n",
              " {'Series': 'IV', 'X': 8.0, 'Y': 6.58},\n",
              " {'Series': 'IV', 'X': 8.0, 'Y': 5.76},\n",
              " {'Series': 'IV', 'X': 8.0, 'Y': 7.71},\n",
              " {'Series': 'IV', 'X': 8.0, 'Y': 8.84},\n",
              " {'Series': 'IV', 'X': 8.0, 'Y': 8.47},\n",
              " {'Series': 'IV', 'X': 8.0, 'Y': 7.04},\n",
              " {'Series': 'IV', 'X': 8.0, 'Y': 5.25},\n",
              " {'Series': 'IV', 'X': 19.0, 'Y': 12.5},\n",
              " {'Series': 'IV', 'X': 8.0, 'Y': 5.56},\n",
              " {'Series': 'IV', 'X': 8.0, 'Y': 7.91},\n",
              " {'Series': 'IV', 'X': 8.0, 'Y': 6.89}]"
            ]
          },
          "metadata": {
            "tags": []
          },
          "execution_count": 8
        }
      ]
    }
  ]
}